{
  "nbformat": 4,
  "nbformat_minor": 0,
  "metadata": {
    "colab": {
      "provenance": [],
      "authorship_tag": "ABX9TyMizhl0xeCXFGcQRyKdQP7Q",
      "include_colab_link": true
    },
    "kernelspec": {
      "name": "python3",
      "display_name": "Python 3"
    },
    "language_info": {
      "name": "python"
    }
  },
  "cells": [
    {
      "cell_type": "markdown",
      "metadata": {
        "id": "view-in-github",
        "colab_type": "text"
      },
      "source": [
        "<a href=\"https://colab.research.google.com/github/SoSavage321/MachineLearningLab4/blob/main/MachineLearningLab4.ipynb\" target=\"_parent\"><img src=\"https://colab.research.google.com/assets/colab-badge.svg\" alt=\"Open In Colab\"/></a>"
      ]
    },
    {
      "cell_type": "markdown",
      "source": [
        "# **Section 1: Handling Missing Data**"
      ],
      "metadata": {
        "id": "GhzbLco719g5"
      }
    },
    {
      "cell_type": "markdown",
      "source": [
        "**Exercise 1.1: Identifying Missing Values**"
      ],
      "metadata": {
        "id": "h8knf4Uv2F0X"
      }
    },
    {
      "cell_type": "code",
      "source": [
        "import pandas as pd\n",
        "from io import StringIO\n",
        "\n",
        "csv_data = '''A,B,C,D\n",
        "1.0,2.0,3.0,4.0\n",
        "5.0,6.0,,8.0\n",
        "10.0,11.0,12.0,'''\n",
        "df = pd.read_csv(StringIO(csv_data))\n",
        "print(df)\n",
        "print(df.isnull().sum())\n"
      ],
      "metadata": {
        "colab": {
          "base_uri": "https://localhost:8080/"
        },
        "id": "Tlq7lYv62Hx5",
        "outputId": "73a0da8a-2523-4cf5-940a-a67f972d8e89"
      },
      "execution_count": 1,
      "outputs": [
        {
          "output_type": "stream",
          "name": "stdout",
          "text": [
            "      A     B     C    D\n",
            "0   1.0   2.0   3.0  4.0\n",
            "1   5.0   6.0   NaN  8.0\n",
            "2  10.0  11.0  12.0  NaN\n",
            "A    0\n",
            "B    0\n",
            "C    1\n",
            "D    1\n",
            "dtype: int64\n"
          ]
        }
      ]
    },
    {
      "cell_type": "markdown",
      "source": [
        "Task"
      ],
      "metadata": {
        "id": "PhbKHYc13FWi"
      }
    },
    {
      "cell_type": "code",
      "source": [
        "import pandas as pd\n",
        "import numpy as np\n",
        "from io import StringIO\n",
        "\n",
        "csv_data = '''A,B,C,D\n",
        "1.0,2.0,3.0,4.0\n",
        "5.0,6.0,,8.0\n",
        "10.0,11.0,12.0,'''\n",
        "df = pd.read_csv(StringIO(csv_data))\n",
        "\n",
        "# Introduce missing values in different places\n",
        "df.loc[0, 'C'] = np.nan   # make C in row 0 missing\n",
        "df.loc[2, 'A'] = np.nan   # make A in row 2 missing\n",
        "df.loc[1, 'B'] = np.nan   # make B in row 1 missing\n",
        "\n",
        "print(df)\n",
        "print(df.isnull().sum())\n"
      ],
      "metadata": {
        "colab": {
          "base_uri": "https://localhost:8080/"
        },
        "id": "ZEvJYHvL3GCR",
        "outputId": "47cee4c2-aad0-42b6-bd20-8e5f518cc7dc"
      },
      "execution_count": 2,
      "outputs": [
        {
          "output_type": "stream",
          "name": "stdout",
          "text": [
            "     A     B     C    D\n",
            "0  1.0   2.0   NaN  4.0\n",
            "1  5.0   NaN   NaN  8.0\n",
            "2  NaN  11.0  12.0  NaN\n",
            "A    1\n",
            "B    1\n",
            "C    2\n",
            "D    1\n",
            "dtype: int64\n"
          ]
        }
      ]
    },
    {
      "cell_type": "markdown",
      "source": [
        "**Exercise 1.2: Eliminating Missing Values**"
      ],
      "metadata": {
        "id": "5xmYrkUO3nej"
      }
    },
    {
      "cell_type": "code",
      "source": [
        "# Drop rows with any missing values\n",
        "print(df.dropna(axis=0))\n",
        "\n",
        "# Drop columns with any missing values\n",
        "print(df.dropna(axis=1))\n",
        "\n",
        "# Drop rows where all values are missing (none in this case)\n",
        "print(df.dropna(how='all'))\n",
        "\n",
        "# Drop rows with fewer than 4 non-missing values\n",
        "print(df.dropna(thresh=4))\n",
        "\n",
        "# Drop rows where 'C' is missing\n",
        "print(df.dropna(subset=['C']))"
      ],
      "metadata": {
        "colab": {
          "base_uri": "https://localhost:8080/"
        },
        "id": "ICY20neL3pCz",
        "outputId": "9ffe461d-1d48-4bc2-a97a-dc67e41a25f2"
      },
      "execution_count": 3,
      "outputs": [
        {
          "output_type": "stream",
          "name": "stdout",
          "text": [
            "Empty DataFrame\n",
            "Columns: [A, B, C, D]\n",
            "Index: []\n",
            "Empty DataFrame\n",
            "Columns: []\n",
            "Index: [0, 1, 2]\n",
            "     A     B     C    D\n",
            "0  1.0   2.0   NaN  4.0\n",
            "1  5.0   NaN   NaN  8.0\n",
            "2  NaN  11.0  12.0  NaN\n",
            "Empty DataFrame\n",
            "Columns: [A, B, C, D]\n",
            "Index: []\n",
            "    A     B     C   D\n",
            "2 NaN  11.0  12.0 NaN\n"
          ]
        }
      ]
    },
    {
      "cell_type": "markdown",
      "source": [
        "Task"
      ],
      "metadata": {
        "id": "p22SIyUm46SO"
      }
    },
    {
      "cell_type": "markdown",
      "source": [
        "1. Remove rows with missing values: print(df.dropna(axis=0)).    # Default: remove any row with at least one NaN.\n",
        "\n",
        "\n",
        "\n",
        " Use it when:\n",
        "\n",
        " If only a few rows have missing data, it's safe to drop them.\n",
        "\n",
        " For example, if two out of 10,000 rows have missing values, simply drop them.\n",
        "\n",
        "  2. Remove columns with missing values: print(df.dropna(axis=1)).    # remove any column containing at least one NaN.\n",
        "\n",
        "\n",
        " Use it when:\n",
        "\n",
        " You have several features/columns, but just a few are \"bad\" due to a large number of missing values.\n",
        "\n",
        " For instance, if a column is 50% empty and cannot be populated, it is wiser to remove it completely.\n",
        "\n",
        "  3. Remove rows with missing values: print(df.dropna(how='all')).\n",
        "\n",
        "\n",
        " Useful when the dataset has \"blank rows\" (for example, when importing untidy CSVs).\n",
        "\n",
        " 4. Remove rows with fewer than a threshold of non-missing values: print(df.dropna(thresh=4)).\n",
        "\n",
        "\n",
        "\n",
        " For example, if a row is basically empty yet has only one value, it is unlikely to be valuable.\n",
        "\n",
        " Rows are saved only if they have at least four valid (non-NaN) entries.\n",
        "\n",
        "  5. Use df.dropna to remove rows where a specific column is missing.\n",
        "\n",
        "\n",
        " Use when: A certain column is crucial (such as \"Age\" in a medical dataset).\n",
        "\n",
        "\n",
        "When should I choose which?\n",
        "\n",
        " Drop rows when you have enough data and can afford to lose some records.\n",
        "\n",
        "\n",
        " Drop columns when a feature is largely absent or unimportant for your model.\n",
        "\n",
        " When a dataset is small and losing rows/columns is not an option, consider imputation instead of discarding."
      ],
      "metadata": {
        "id": "M_3Rmnq14-SM"
      }
    },
    {
      "cell_type": "markdown",
      "source": [
        "**Exercise 1.3: Imputing Missing Values**"
      ],
      "metadata": {
        "id": "X0NbziTw6scC"
      }
    },
    {
      "cell_type": "code",
      "source": [
        "from sklearn.impute import SimpleImputer\n",
        "import numpy as np\n",
        "\n",
        "# Mean strategy\n",
        "imr_mean = SimpleImputer(missing_values=np.nan, strategy='mean')\n",
        "imputed_mean = imr_mean.fit_transform(df.values)\n",
        "print(\"Mean Imputation:\\n\", imputed_mean)\n",
        "\n",
        "# Median strategy\n",
        "imr_median = SimpleImputer(missing_values=np.nan, strategy='median')\n",
        "imputed_median = imr_median.fit_transform(df.values)\n",
        "print(\"\\nMedian Imputation:\\n\", imputed_median)\n",
        "\n",
        "# Most frequent strategy\n",
        "imr_freq = SimpleImputer(missing_values=np.nan, strategy='most_frequent')\n",
        "imputed_freq = imr_freq.fit_transform(df.values)\n",
        "print(\"\\nMost Frequent Imputation:\\n\", imputed_freq)\n"
      ],
      "metadata": {
        "colab": {
          "base_uri": "https://localhost:8080/"
        },
        "id": "4LdfoVOZ6rgC",
        "outputId": "e3b71b6f-5af6-45da-cd01-45a062901890"
      },
      "execution_count": 4,
      "outputs": [
        {
          "output_type": "stream",
          "name": "stdout",
          "text": [
            "Mean Imputation:\n",
            " [[ 1.   2.  12.   4. ]\n",
            " [ 5.   6.5 12.   8. ]\n",
            " [ 3.  11.  12.   6. ]]\n",
            "\n",
            "Median Imputation:\n",
            " [[ 1.   2.  12.   4. ]\n",
            " [ 5.   6.5 12.   8. ]\n",
            " [ 3.  11.  12.   6. ]]\n",
            "\n",
            "Most Frequent Imputation:\n",
            " [[ 1.  2. 12.  4.]\n",
            " [ 5.  2. 12.  8.]\n",
            " [ 1. 11. 12.  4.]]\n"
          ]
        }
      ]
    },
    {
      "cell_type": "markdown",
      "source": [
        "Task"
      ],
      "metadata": {
        "id": "-I3SBtIl7A_m"
      }
    },
    {
      "cell_type": "markdown",
      "source": [
        "Comparison strategies\n",
        "\n",
        " Mean (default for numerical values).\n",
        "\n",
        "\n",
        " Each missing value is replaced by the column's average.\n",
        "\n",
        " Smoothes the data, however outliers might cause distortions.\n",
        "\n",
        " Median\n",
        "\n",
        " Each missing value is replaced with the column's median.\n",
        "\n",
        " Stronger tolerance for outliers is beneficial when dealing with skewed data.\n",
        "\n",
        " Most frequent\n",
        "\n",
        " Each missing value is replaced by the most common value in the column.\n",
        "\n",
        " For categorical data (e.g. \"red\", \"blue\", \"green\"), mean/median do not make sense, hence \"most_frequent\" is best.\n",
        "\n",
        "\n",
        "\n",
        " Why is'most_frequent' relevant in categorical data?\n",
        "\n",
        " Categorical values do not have a \"mean\" or \"median.\"  Example:\n",
        "\n",
        " Colors are [\"red\", \"blue\", NaN, \"blue\", \"green\"]\n",
        "\n",
        "\n",
        " Mean/median will not work here.\n",
        "\n",
        " With strategy=\"most_frequent\", the missing value will be \"blue\" (since it occurs most frequently).\n",
        "\n",
        " This keeps the mode of the data, making it more realistic."
      ],
      "metadata": {
        "id": "zZCKVpod7Cau"
      }
    },
    {
      "cell_type": "markdown",
      "source": [
        "# **Section 2: Handling Categorical Data**"
      ],
      "metadata": {
        "id": "3yvjMK-c7MmA"
      }
    },
    {
      "cell_type": "code",
      "source": [
        "import pandas as pd\n",
        "\n",
        "# Original DataFrame\n",
        "df = pd.DataFrame([\n",
        "    ['green', 'M', 10.1, 'class2'],\n",
        "    ['red', 'L', 13.5, 'class1'],\n",
        "    ['blue', 'XL', 15.3, 'class2'],\n",
        "    ['yellow', 'S', 8.7, 'class1']   # added a new row with size 'S'\n",
        "])\n",
        "df.columns = ['color', 'size', 'price', 'classlabel']\n",
        "\n",
        "# Updated size mapping (ordinal)\n",
        "size_mapping = {'S': 0, 'M': 1, 'L': 2, 'XL': 3}\n",
        "df['size'] = df['size'].map(size_mapping)\n",
        "\n",
        "print(\"DataFrame with Ordinal Mapping:\")\n",
        "print(df)\n",
        "\n",
        "# Inverse mapping\n",
        "inv_size_mapping = {v: k for k, v in size_mapping.items()}\n",
        "print(\"\\nInverse Mapping (Back to original sizes):\")\n",
        "print(df['size'].map(inv_size_mapping))\n"
      ],
      "metadata": {
        "colab": {
          "base_uri": "https://localhost:8080/"
        },
        "id": "yc046Akl8gmg",
        "outputId": "a327e6f8-d63c-4ff2-8839-031da46e6475"
      },
      "execution_count": 5,
      "outputs": [
        {
          "output_type": "stream",
          "name": "stdout",
          "text": [
            "DataFrame with Ordinal Mapping:\n",
            "    color  size  price classlabel\n",
            "0   green     1   10.1     class2\n",
            "1     red     2   13.5     class1\n",
            "2    blue     3   15.3     class2\n",
            "3  yellow     0    8.7     class1\n",
            "\n",
            "Inverse Mapping (Back to original sizes):\n",
            "0     M\n",
            "1     L\n",
            "2    XL\n",
            "3     S\n",
            "Name: size, dtype: object\n"
          ]
        }
      ]
    },
    {
      "cell_type": "markdown",
      "source": [
        "**Exercise 2.2: Encoding Class Labels**"
      ],
      "metadata": {
        "id": "fZs1Ya0w8o8F"
      }
    },
    {
      "cell_type": "code",
      "source": [
        "from sklearn.preprocessing import LabelEncoder\n",
        "from sklearn.tree import DecisionTreeClassifier\n",
        "\n",
        "# Encode class labels\n",
        "class_le = LabelEncoder()\n",
        "y = class_le.fit_transform(df['classlabel'].values)\n",
        "print(\"Encoded labels:\", y)\n",
        "\n",
        "# Inverse transform\n",
        "print(\"Decoded labels:\", class_le.inverse_transform(y))\n",
        "\n",
        "# Test classifier with encoded labels\n",
        "X = df[['size', 'price']].values   # features\n",
        "clf = DecisionTreeClassifier(random_state=42)\n",
        "clf.fit(X, y)\n",
        "print(\"\\nPrediction with encoded labels:\", clf.predict([[2, 14]]))\n"
      ],
      "metadata": {
        "colab": {
          "base_uri": "https://localhost:8080/"
        },
        "id": "jnbYW7_E9PzH",
        "outputId": "f50af7f9-fe1b-4630-ea8c-715a20b82da8"
      },
      "execution_count": 6,
      "outputs": [
        {
          "output_type": "stream",
          "name": "stdout",
          "text": [
            "Encoded labels: [1 0 1 0]\n",
            "Decoded labels: ['class2' 'class1' 'class2' 'class1']\n",
            "\n",
            "Prediction with encoded labels: [0]\n"
          ]
        }
      ]
    },
    {
      "cell_type": "markdown",
      "source": [
        "Task"
      ],
      "metadata": {
        "id": "KMLrDzoD9Wew"
      }
    },
    {
      "cell_type": "markdown",
      "source": [
        "Why are labels encoded as integers?\n",
        "\n",
        " Machine learning models (such as scikit-learn classifiers) often work with numeric values only.\n",
        "\n",
        "\n",
        " Many algorithms may give an error if you pass strings (\"class1\", \"class2\") instead of integers/floats.\n",
        "\n",
        " Encoding converts labels into numbers (class1 → 0, class2 → 1), allowing classifiers to interpret them."
      ],
      "metadata": {
        "id": "kCyB7W6x9X6J"
      }
    },
    {
      "cell_type": "markdown",
      "source": [
        "# **Exercise 2.3: One-Hot Encoding for Nominal Features**"
      ],
      "metadata": {
        "id": "-aiWqo899dLz"
      }
    },
    {
      "cell_type": "code",
      "source": [
        "import pandas as pd\n",
        "from sklearn.preprocessing import LabelEncoder, OneHotEncoder\n",
        "\n",
        "# Assuming df is your DataFrame with columns: color, size, price\n",
        "# First, let's create a sample DataFrame for demonstration\n",
        "data = {\n",
        "    'color': ['red', 'blue', 'green', 'red', 'blue'],\n",
        "    'size': ['S', 'M', 'L', 'M', 'S'],\n",
        "    'price': [10, 15, 20, 12, 18]\n",
        "}\n",
        "df = pd.DataFrame(data)\n",
        "\n",
        "# Apply one-hot encoding to the full DataFrame using pandas\n",
        "df_encoded_full = pd.get_dummies(df, columns=['color', 'size'])\n",
        "print(\"Full DataFrame with One-Hot Encoding:\")\n",
        "print(df_encoded_full)\n",
        "print(\"\\n\" + \"=\"*50 + \"\\n\")\n",
        "\n",
        "# With drop_first=True to avoid multicollinearity\n",
        "df_encoded_dropped = pd.get_dummies(df, columns=['color', 'size'], drop_first=True)\n",
        "print(\"DataFrame with One-Hot Encoding (dropped first column):\")\n",
        "print(df_encoded_dropped)"
      ],
      "metadata": {
        "colab": {
          "base_uri": "https://localhost:8080/"
        },
        "id": "eVELs7lz-vIM",
        "outputId": "de21fbfe-3437-49e5-c51e-ac1d929a5b1b"
      },
      "execution_count": 7,
      "outputs": [
        {
          "output_type": "stream",
          "name": "stdout",
          "text": [
            "Full DataFrame with One-Hot Encoding:\n",
            "   price  color_blue  color_green  color_red  size_L  size_M  size_S\n",
            "0     10       False        False       True   False   False    True\n",
            "1     15        True        False      False   False    True   False\n",
            "2     20       False         True      False    True   False   False\n",
            "3     12       False        False       True   False    True   False\n",
            "4     18        True        False      False   False   False    True\n",
            "\n",
            "==================================================\n",
            "\n",
            "DataFrame with One-Hot Encoding (dropped first column):\n",
            "   price  color_green  color_red  size_M  size_S\n",
            "0     10        False       True   False    True\n",
            "1     15        False      False    True   False\n",
            "2     20         True      False   False   False\n",
            "3     12        False       True    True   False\n",
            "4     18        False      False   False    True\n"
          ]
        }
      ]
    },
    {
      "cell_type": "markdown",
      "source": [
        "Multicollinearity Discussion\n",
        " What is Multicollinearity?\n",
        " Multicollinearity arises when two or more independent variables in a regression model are strongly linked, making it difficult to evaluate each variable's effect on the dependent variable.\n",
        "\n",
        "\n",
        " Problem with One-Hot Encoding\n",
        " When we one-hot encode a categorical variable with k categories, we get k binary columns.  However, these columns are completely connected because:\n",
        "\n",
        " For any observations:\n",
        "\n",
        " If you know the values of the k-1 columns, you can anticipate the k-th column precisely.\n",
        "\n",
        " This results in a perfectly linear relationship: color_red + color_blue + color_green = 1 (always).\n",
        "\n",
        "Why Dropping One Column Reduces Perfect Multicollinearity:  By removing one column, we disrupt the perfect linear relationship between the encoded variables.\n",
        "\n",
        "\n",
        " Creates a Reference Category: The dropped category serves as the baseline/reference category against which all other categories are measured.\n",
        "\n",
        " Improves Model Stability: Prevents numerical difficulties in regression models caused by completely correlated features.\n",
        "\n",
        " Reduces Dimensionality: Fewer features result in simpler models and lower computing costs."
      ],
      "metadata": {
        "id": "UeY44rul-_-a"
      }
    },
    {
      "cell_type": "markdown",
      "source": [
        "# **Section 3: Partitioning a Dataset**"
      ],
      "metadata": {
        "id": "cBbewgvs_RWC"
      }
    },
    {
      "cell_type": "markdown",
      "source": [
        "**Exercise 3.1: Loading and Splitting the Wine Dataset**"
      ],
      "metadata": {
        "id": "lYnpgscO_elW"
      }
    },
    {
      "cell_type": "code",
      "source": [
        "import pandas as pd\n",
        "from sklearn.model_selection import train_test_split\n",
        "\n",
        "# Load the wine dataset\n",
        "df_wine = pd.read_csv('https://archive.ics.uci.edu/ml/machine-learning-databases/wine/wine.data', header=None)\n",
        "df_wine.columns = ['Class label', 'Alcohol', 'Malic acid', 'Ash', 'Alcalinity of ash', 'Magnesium',\n",
        "                   'Total phenols', 'Flavanoids', 'Nonflavanoid phenols', 'Proanthocyanins',\n",
        "                   'Color intensity', 'Hue', 'OD280/OD315 of diluted wines', 'Proline']\n",
        "\n",
        "print(\"Original dataset class distribution:\")\n",
        "print(df_wine['Class label'].value_counts().sort_index())\n",
        "print(f\"Total samples: {len(df_wine)}\")\n",
        "print(\"\\n\" + \"=\"*50 + \"\\n\")\n",
        "\n",
        "# Split with test_size=0.2 and stratify=y\n",
        "X, y = df_wine.iloc[:, 1:].values, df_wine.iloc[:, 0].values\n",
        "X_train, X_test, y_train, y_test = train_test_split(X, y, test_size=0.2, random_state=0, stratify=y)\n",
        "\n",
        "print(\"With stratify=y:\")\n",
        "print(f\"Train shape: {X_train.shape}, Test shape: {X_test.shape}\")\n",
        "print(\"Train class distribution:\", dict(zip(*np.unique(y_train, return_counts=True))))\n",
        "print(\"Test class distribution: \", dict(zip(*np.unique(y_test, return_counts=True))))\n",
        "print(\"Train class proportions: \", {cls: count/len(y_train) for cls, count in zip(*np.unique(y_train, return_counts=True))})\n",
        "print(\"Test class proportions:  \", {cls: count/len(y_test) for cls, count in zip(*np.unique(y_test, return_counts=True))})\n",
        "print(\"\\n\" + \"=\"*50 + \"\\n\")\n",
        "\n",
        "# Compare with split without stratification\n",
        "X_train_no_strat, X_test_no_strat, y_train_no_strat, y_test_no_strat = train_test_split(\n",
        "    X, y, test_size=0.2, random_state=0, stratify=None\n",
        ")\n",
        "\n",
        "print(\"Without stratify=y:\")\n",
        "print(\"Train class distribution:\", dict(zip(*np.unique(y_train_no_strat, return_counts=True))))\n",
        "print(\"Test class distribution: \", dict(zip(*np.unique(y_test_no_strat, return_counts=True))))\n",
        "print(\"Train class proportions: \", {cls: count/len(y_train_no_strat) for cls, count in zip(*np.unique(y_train_no_strat, return_counts=True))})\n",
        "print(\"Test class proportions:  \", {cls: count/len(y_test_no_strat) for cls, count in zip(*np.unique(y_test_no_strat, return_counts=True))})"
      ],
      "metadata": {
        "colab": {
          "base_uri": "https://localhost:8080/"
        },
        "id": "_Epf9pWq_fXT",
        "outputId": "0c08ab75-a78d-4f34-ecc9-a4ae13b97aac"
      },
      "execution_count": 8,
      "outputs": [
        {
          "output_type": "stream",
          "name": "stdout",
          "text": [
            "Original dataset class distribution:\n",
            "Class label\n",
            "1    59\n",
            "2    71\n",
            "3    48\n",
            "Name: count, dtype: int64\n",
            "Total samples: 178\n",
            "\n",
            "==================================================\n",
            "\n",
            "With stratify=y:\n",
            "Train shape: (142, 13), Test shape: (36, 13)\n",
            "Train class distribution: {np.int64(1): np.int64(47), np.int64(2): np.int64(57), np.int64(3): np.int64(38)}\n",
            "Test class distribution:  {np.int64(1): np.int64(12), np.int64(2): np.int64(14), np.int64(3): np.int64(10)}\n",
            "Train class proportions:  {np.int64(1): np.float64(0.33098591549295775), np.int64(2): np.float64(0.4014084507042254), np.int64(3): np.float64(0.2676056338028169)}\n",
            "Test class proportions:   {np.int64(1): np.float64(0.3333333333333333), np.int64(2): np.float64(0.3888888888888889), np.int64(3): np.float64(0.2777777777777778)}\n",
            "\n",
            "==================================================\n",
            "\n",
            "Without stratify=y:\n",
            "Train class distribution: {np.int64(1): np.int64(45), np.int64(2): np.int64(55), np.int64(3): np.int64(42)}\n",
            "Test class distribution:  {np.int64(1): np.int64(14), np.int64(2): np.int64(16), np.int64(3): np.int64(6)}\n",
            "Train class proportions:  {np.int64(1): np.float64(0.31690140845070425), np.int64(2): np.float64(0.3873239436619718), np.int64(3): np.float64(0.29577464788732394)}\n",
            "Test class proportions:   {np.int64(1): np.float64(0.3888888888888889), np.int64(2): np.float64(0.4444444444444444), np.int64(3): np.float64(0.16666666666666666)}\n"
          ]
        }
      ]
    },
    {
      "cell_type": "markdown",
      "source": [
        "# **Section 4: Feature Scaling**"
      ],
      "metadata": {
        "id": "1dMXoKmfAShN"
      }
    },
    {
      "cell_type": "code",
      "source": [
        "import pandas as pd\n",
        "import numpy as np\n",
        "import matplotlib.pyplot as plt\n",
        "from sklearn.preprocessing import MinMaxScaler\n",
        "from sklearn.model_selection import train_test_split\n",
        "\n",
        "# Load the wine dataset\n",
        "df_wine = pd.read_csv('https://archive.ics.uci.edu/ml/machine-learning-databases/wine/wine.data', header=None)\n",
        "df_wine.columns = ['Class label', 'Alcohol', 'Malic acid', 'Ash', 'Alcalinity of ash', 'Magnesium',\n",
        "                   'Total phenols', 'Flavanoids', 'Nonflavanoid phenols', 'Proanthocyanins',\n",
        "                   'Color intensity', 'Hue', 'OD280/OD315 of diluted wines', 'Proline']\n",
        "\n",
        "# Split the data\n",
        "X, y = df_wine.iloc[:, 1:].values, df_wine.iloc[:, 0].values\n",
        "X_train, X_test, y_train, y_test = train_test_split(X, y, test_size=0.3, random_state=0, stratify=y)\n",
        "\n",
        "# Let's examine the 'Alcohol' feature (first feature)\n",
        "alcohol_train = X_train[:, 0]  # Alcohol feature from training set\n",
        "alcohol_test = X_test[:, 0]    # Alcohol feature from test set\n",
        "\n",
        "print(\"Before scaling - Alcohol feature:\")\n",
        "print(f\"Training set - Min: {alcohol_train.min():.2f}, Max: {alcohol_train.max():.2f}, Mean: {alcohol_train.mean():.2f}\")\n",
        "print(f\"Test set - Min: {alcohol_test.min():.2f}, Max: {alcohol_test.max():.2f}, Mean: {alcohol_test.mean():.2f}\")\n",
        "\n",
        "# Apply Min-Max scaling\n",
        "mms = MinMaxScaler()\n",
        "X_train_norm = mms.fit_transform(X_train)\n",
        "X_test_norm = mms.transform(X_test)\n",
        "\n",
        "# Extract scaled Alcohol feature\n",
        "alcohol_train_norm = X_train_norm[:, 0]\n",
        "alcohol_test_norm = X_test_norm[:, 0]\n",
        "\n",
        "print(\"\\nAfter Min-Max scaling - Alcohol feature:\")\n",
        "print(f\"Training set - Min: {alcohol_train_norm.min():.2f}, Max: {alcohol_train_norm.max():.2f}, Mean: {alcohol_train_norm.mean():.2f}\")\n",
        "print(f\"Test set - Min: {alcohol_test_norm.min():.2f}, Max: {alcohol_test_norm.max():.2f}, Mean: {alcohol_test_norm.mean():.2f}\")\n",
        "\n",
        "# Create histograms\n",
        "plt.figure(figsize=(12, 8))\n",
        "\n",
        "# Before scaling\n",
        "plt.subplot(2, 2, 1)\n",
        "plt.hist(alcohol_train, bins=20, alpha=0.7, color='blue', edgecolor='black')\n",
        "plt.title('Training Set - Before Scaling\\nAlcohol Feature')\n",
        "plt.xlabel('Alcohol Content')\n",
        "plt.ylabel('Frequency')\n",
        "plt.grid(alpha=0.3)\n",
        "\n",
        "plt.subplot(2, 2, 2)\n",
        "plt.hist(alcohol_test, bins=20, alpha=0.7, color='red', edgecolor='black')\n",
        "plt.title('Test Set - Before Scaling\\nAlcohol Feature')\n",
        "plt.xlabel('Alcohol Content')\n",
        "plt.ylabel('Frequency')\n",
        "plt.grid(alpha=0.3)\n",
        "\n",
        "# After scaling\n",
        "plt.subplot(2, 2, 3)\n",
        "plt.hist(alcohol_train_norm, bins=20, alpha=0.7, color='lightblue', edgecolor='black')\n",
        "plt.title('Training Set - After Min-Max Scaling\\nAlcohol Feature')\n",
        "plt.xlabel('Normalized Alcohol Content (0-1)')\n",
        "plt.ylabel('Frequency')\n",
        "plt.grid(alpha=0.3)\n",
        "\n",
        "plt.subplot(2, 2, 4)\n",
        "plt.hist(alcohol_test_norm, bins=20, alpha=0.7, color='lightcoral', edgecolor='black')\n",
        "plt.title('Test Set - After Min-Max Scaling\\nAlcohol Feature')\n",
        "plt.xlabel('Normalized Alcohol Content (0-1)')\n",
        "plt.ylabel('Frequency')\n",
        "plt.grid(alpha=0.3)\n",
        "\n",
        "plt.tight_layout()\n",
        "plt.show()\n",
        "\n",
        "# Let's also check another feature to see the pattern\n",
        "print(\"\\n\" + \"=\"*60)\n",
        "print(\"Comparison for Malic Acid feature (index 1):\")\n",
        "print(\"Before scaling:\")\n",
        "print(f\"Train - Min: {X_train[:,1].min():.2f}, Max: {X_train[:,1].max():.2f}\")\n",
        "print(f\"Test - Min: {X_test[:,1].min():.2f}, Max: {X_test[:,1].max():.2f}\")\n",
        "\n",
        "print(\"After scaling:\")\n",
        "print(f\"Train - Min: {X_train_norm[:,1].min():.2f}, Max: {X_train_norm[:,1].max():.2f}\")\n",
        "print(f\"Test - Min: {X_test_norm[:,1].min():.2f}, Max: {X_test_norm[:,1].max():.2f}\")"
      ],
      "metadata": {
        "colab": {
          "base_uri": "https://localhost:8080/",
          "height": 1000
        },
        "id": "K43qQqWGAshX",
        "outputId": "9a6b7417-f2ee-406a-9af7-6b5399388d0e"
      },
      "execution_count": 9,
      "outputs": [
        {
          "output_type": "stream",
          "name": "stdout",
          "text": [
            "Before scaling - Alcohol feature:\n",
            "Training set - Min: 11.41, Max: 14.83, Mean: 13.03\n",
            "Test set - Min: 11.03, Max: 14.39, Mean: 12.92\n",
            "\n",
            "After Min-Max scaling - Alcohol feature:\n",
            "Training set - Min: 0.00, Max: 1.00, Mean: 0.47\n",
            "Test set - Min: -0.11, Max: 0.87, Mean: 0.44\n"
          ]
        },
        {
          "output_type": "display_data",
          "data": {
            "text/plain": [
              "<Figure size 1200x800 with 4 Axes>"
            ],
            "image/png": "[encoded data removed]"
          },
          "metadata": {}
        },
        {
          "output_type": "stream",
          "name": "stdout",
          "text": [
            "\n",
            "============================================================\n",
            "Comparison for Malic Acid feature (index 1):\n",
            "Before scaling:\n",
            "Train - Min: 0.74, Max: 5.80\n",
            "Test - Min: 0.90, Max: 4.61\n",
            "After scaling:\n",
            "Train - Min: 0.00, Max: 1.00\n",
            "Test - Min: 0.03, Max: 0.76\n"
          ]
        }
      ]
    },
    {
      "cell_type": "markdown",
      "source": [
        "Key Observations from Histograms:\n",
        " Before scaling:\n",
        " Original Scale:  The alcohol content ranges from approximately 11 to 15.\n",
        "\n",
        "\n",
        " Different ranges:  Features have varying scales and ranges.\n",
        "\n",
        " Distribution shape: The original distribution pattern is maintained.\n",
        "\n",
        " After Min-Max  Scaling:\n",
        " Uniform range: All numbers scaled to the [0, 1] range\n",
        "\n",
        " Preserved distribution: The distribution shape remains the same.\n",
        "\n",
        " maintained relationships: relative distances between values are retained."
      ],
      "metadata": {
        "id": "3RcCjiiuBduY"
      }
    },
    {
      "cell_type": "markdown",
      "source": [
        "**Exercise 4.2: Standardization**"
      ],
      "metadata": {
        "id": "emKIcYs7CAsV"
      }
    },
    {
      "cell_type": "code",
      "source": [
        "import numpy as np\n",
        "import pandas as pd\n",
        "from sklearn.preprocessing import StandardScaler\n",
        "from sklearn.model_selection import train_test_split\n",
        "\n",
        "# Create some sample data\n",
        "X = np.array([\n",
        "    [1.0, 50.0],\n",
        "    [2.0, 60.0],\n",
        "    [3.0, 70.0],\n",
        "    [4.0, 80.0],\n",
        "    [5.0, 90.0]\n",
        "])\n",
        "\n",
        "# Train-test split\n",
        "X_train, X_test = train_test_split(X, test_size=0.4, random_state=42)\n",
        "\n",
        "# Standardize\n",
        "stdsc = StandardScaler()\n",
        "X_train_std = stdsc.fit_transform(X_train)\n",
        "X_test_std = stdsc.transform(X_test)\n",
        "\n",
        "print(\"First two standardized train samples:\\n\", X_train_std[:2])\n",
        "\n",
        "# Check mean and std\n",
        "print(\"\\nTrain means:\", X_train_std.mean(axis=0))\n",
        "print(\"Train stds:\", X_train_std.std(axis=0))\n"
      ],
      "metadata": {
        "colab": {
          "base_uri": "https://localhost:8080/"
        },
        "id": "wiEwVt8MCBJY",
        "outputId": "2687e852-b1d6-461d-ec5a-488d5419b539"
      },
      "execution_count": 10,
      "outputs": [
        {
          "output_type": "stream",
          "name": "stdout",
          "text": [
            "First two standardized train samples:\n",
            " [[ 0.26726124  0.26726124]\n",
            " [-1.33630621 -1.33630621]]\n",
            "\n",
            "Train means: [ 1.48029737e-16 -2.96059473e-16]\n",
            "Train stds: [1. 1.]\n"
          ]
        }
      ]
    },
    {
      "cell_type": "markdown",
      "source": [
        "When is standardization preferred over normalization?\n",
        "\n",
        " Standardization (mean = 0; standard deviation = 1)\n",
        "\n",
        "\n",
        " It is preferable when features follow (or are supposed to follow) a Gaussian (normal) distribution.\n",
        "\n",
        " Suitable for algorithms that assume centered, unit variance features:\n",
        "\n",
        " Logistic regression, linear regression, SVMs, PCA, and k-means.\n",
        "\n",
        " Normalization (rescaling to [0,1]\n",
        "\n",
        " Preferred when all characteristics must be displayed on the same set scale.\n",
        "\n",
        " Common in:\n",
        "\n",
        " Neural networks (particularly with activations such as sigmoid/tanh).\n",
        "\n",
        " Distance-based approaches (k-NN, clustering), where absolute range is important."
      ],
      "metadata": {
        "id": "L8iQIF4cCt5X"
      }
    },
    {
      "cell_type": "markdown",
      "source": [
        "# **Section 5: Selecting Meaningful Features**"
      ],
      "metadata": {
        "id": "4h7CcqR3CviE"
      }
    },
    {
      "cell_type": "markdown",
      "source": [
        "**Exercise 5.1: L1 Regularization for Sparsity**\n",
        "\n",
        "\n"
      ],
      "metadata": {
        "id": "oVLc6mYPDLpC"
      }
    },
    {
      "cell_type": "code",
      "source": [
        "import numpy as np\n",
        "import matplotlib.pyplot as plt\n",
        "from sklearn.linear_model import LogisticRegression\n",
        "from sklearn.datasets import load_iris\n",
        "from sklearn.preprocessing import StandardScaler\n",
        "from sklearn.model_selection import train_test_split\n",
        "\n",
        "# Load dataset (Iris for demo, binary classification for simplicity)\n",
        "iris = load_iris()\n",
        "X = iris.data\n",
        "y = iris.target\n",
        "\n",
        "# Use only 2 classes for binary logistic regression\n",
        "X = X[y < 2]\n",
        "y = y[y < 2]\n",
        "\n",
        "# Train/test split\n",
        "X_train, X_test, y_train, y_test = train_test_split(X, y, test_size=0.3, random_state=42)\n",
        "\n",
        "# Standardize features\n",
        "sc = StandardScaler()\n",
        "X_train_std = sc.fit_transform(X_train)\n",
        "X_test_std = sc.transform(X_test)\n",
        "\n",
        "# Different values of C\n",
        "weights, params = [], []\n",
        "for c in np.logspace(-2, 2, 10):  # from 0.01 to 100\n",
        "    lr = LogisticRegression(penalty='l1', C=c, solver='liblinear')\n",
        "    lr.fit(X_train_std, y_train)\n",
        "    weights.append(lr.coef_[0])\n",
        "    params.append(c)\n",
        "\n",
        "    print(f\"C={c:.2f}\")\n",
        "    print(\"Training accuracy:\", lr.score(X_train_std, y_train))\n",
        "    print(\"Test accuracy:\", lr.score(X_test_std, y_test))\n",
        "    print(\"Coefficients:\", lr.coef_)\n",
        "    print(\"-\"*40)\n",
        "\n",
        "# Convert to array\n",
        "weights = np.array(weights)\n",
        "\n",
        "# Plot coefficients vs C\n",
        "plt.figure(figsize=(8,6))\n",
        "for i in range(weights.shape[1]):\n",
        "    plt.plot(params, weights[:, i], label=iris.feature_names[i])\n",
        "plt.xscale('log')\n",
        "plt.xlabel('C (Inverse of regularization strength)')\n",
        "plt.ylabel('Coefficient weight')\n",
        "plt.title('L1 regularization paths')\n",
        "plt.legend(loc='best')\n",
        "plt.show()\n"
      ],
      "metadata": {
        "colab": {
          "base_uri": "https://localhost:8080/",
          "height": 1000
        },
        "id": "0rswOw8hDM0l",
        "outputId": "5122d53b-ebe5-4a4a-ae87-0c7ddbe0a23b"
      },
      "execution_count": 11,
      "outputs": [
        {
          "output_type": "stream",
          "name": "stdout",
          "text": [
            "C=0.01\n",
            "Training accuracy: 0.4714285714285714\n",
            "Test accuracy: 0.5666666666666667\n",
            "Coefficients: [[0. 0. 0. 0.]]\n",
            "----------------------------------------\n",
            "C=0.03\n",
            "Training accuracy: 0.4714285714285714\n",
            "Test accuracy: 0.5666666666666667\n",
            "Coefficients: [[0. 0. 0. 0.]]\n",
            "----------------------------------------\n",
            "C=0.08\n",
            "Training accuracy: 1.0\n",
            "Test accuracy: 1.0\n",
            "Coefficients: [[0.         0.         1.18142162 0.24265292]]\n",
            "----------------------------------------\n",
            "C=0.22\n",
            "Training accuracy: 1.0\n",
            "Test accuracy: 1.0\n",
            "Coefficients: [[ 0.         -0.20110364  1.65940954  0.86117487]]\n",
            "----------------------------------------\n",
            "C=0.60\n",
            "Training accuracy: 1.0\n",
            "Test accuracy: 1.0\n",
            "Coefficients: [[ 0.         -0.57842786  1.96486278  1.50869122]]\n",
            "----------------------------------------\n",
            "C=1.67\n",
            "Training accuracy: 1.0\n",
            "Test accuracy: 1.0\n",
            "Coefficients: [[ 0.         -0.93375761  2.32902394  2.14410282]]\n",
            "----------------------------------------\n",
            "C=4.64\n",
            "Training accuracy: 1.0\n",
            "Test accuracy: 1.0\n",
            "Coefficients: [[ 0.         -1.26923203  2.78495775  2.76784934]]\n",
            "----------------------------------------\n",
            "C=12.92\n",
            "Training accuracy: 1.0\n",
            "Test accuracy: 1.0\n",
            "Coefficients: [[ 0.         -1.63517089  3.87117204  2.85352079]]\n",
            "----------------------------------------\n",
            "C=35.94\n",
            "Training accuracy: 1.0\n",
            "Test accuracy: 1.0\n",
            "Coefficients: [[ 0.         -1.95261588  3.93440665  3.94675892]]\n",
            "----------------------------------------\n",
            "C=100.00\n",
            "Training accuracy: 1.0\n",
            "Test accuracy: 1.0\n",
            "Coefficients: [[ 0.         -2.23021845  4.3247106   5.00995461]]\n",
            "----------------------------------------\n"
          ]
        },
        {
          "output_type": "display_data",
          "data": {
            "text/plain": [
              "<Figure size 800x600 with 1 Axes>"
            ],
            "image/png": "[encoded data removed]"
          },
          "metadata": {}
        }
      ]
    },
    {
      "cell_type": "markdown",
      "source": [
        "What you will observe\n",
        "\n",
        " For small C (e.g., 0.1, 0.01), most coefficients decrease to zero.\n",
        "\n",
        "\n",
        " As C (e.g., 10, 100) increases, the proportion of zero coefficients decreases.\n",
        "\n",
        " The plot depicts how each feature's weight varies with C."
      ],
      "metadata": {
        "id": "T9GajVkmDjUp"
      }
    },
    {
      "cell_type": "markdown",
      "source": [
        "**Exercise 5.2: Sequential Backward Selection (SBS)**"
      ],
      "metadata": {
        "id": "1zKK4i0fDrey"
      }
    },
    {
      "cell_type": "markdown",
      "source": [
        "Step 1: SBS Class Implementation"
      ],
      "metadata": {
        "id": "23C1a0X9TStS"
      }
    },
    {
      "cell_type": "code",
      "source": [
        "from itertools import combinations\n",
        "import numpy as np\n",
        "from sklearn.base import clone\n",
        "from sklearn.metrics import accuracy_score\n",
        "\n",
        "class SBS:\n",
        "    def __init__(self, estimator, k_features, scoring=accuracy_score,\n",
        "                 test_size=0.25, random_state=1):\n",
        "        self.scoring = scoring\n",
        "        self.estimator = clone(estimator)\n",
        "        self.k_features = k_features\n",
        "        self.test_size = test_size\n",
        "        self.random_state = random_state\n",
        "\n",
        "    def fit(self, X, y):\n",
        "        from sklearn.model_selection import train_test_split\n",
        "        X_train, X_test, y_train, y_test = train_test_split(\n",
        "            X, y, test_size=self.test_size, random_state=self.random_state)\n",
        "\n",
        "        dim = X_train.shape[1]\n",
        "        self.indices_ = tuple(range(dim))\n",
        "        self.subsets_ = [self.indices_]\n",
        "        score = self._calc_score(X_train, y_train, X_test, y_test, self.indices_)\n",
        "        self.scores_ = [score]\n",
        "\n",
        "        while dim > self.k_features:\n",
        "            scores = []\n",
        "            subsets = []\n",
        "\n",
        "            for p in combinations(self.indices_, r=dim - 1):\n",
        "                score = self._calc_score(X_train, y_train, X_test, y_test, p)\n",
        "                scores.append(score)\n",
        "                subsets.append(p)\n",
        "\n",
        "            best = np.argmax(scores)\n",
        "            self.indices_ = subsets[best]\n",
        "            self.subsets_.append(self.indices_)\n",
        "            dim -= 1\n",
        "\n",
        "            self.scores_.append(scores[best])\n",
        "\n",
        "        self.k_score_ = self.scores_[-1]\n",
        "        return self\n",
        "\n",
        "    def transform(self, X):\n",
        "        return X[:, self.indices_]\n",
        "\n",
        "    def _calc_score(self, X_train, y_train, X_test, y_test, indices):\n",
        "        self.estimator.fit(X_train[:, indices], y_train)\n",
        "        y_pred = self.estimator.predict(X_test[:, indices])\n",
        "        score = self.scoring(y_test, y_pred)\n",
        "        return score\n"
      ],
      "metadata": {
        "id": "7yGFvtaXDsKj"
      },
      "execution_count": 12,
      "outputs": []
    },
    {
      "cell_type": "markdown",
      "source": [
        "Step 2: Apply SBS with KNN"
      ],
      "metadata": {
        "id": "2oc6tDukEGlK"
      }
    },
    {
      "cell_type": "code",
      "source": [
        "from sklearn.datasets import load_wine\n",
        "from sklearn.model_selection import train_test_split\n",
        "from sklearn.preprocessing import StandardScaler\n",
        "from sklearn.neighbors import KNeighborsClassifier\n",
        "import matplotlib.pyplot as plt\n",
        "\n",
        "# Load dataset\n",
        "wine = load_wine()\n",
        "X, y = wine.data, wine.target\n",
        "\n",
        "# Train/test split\n",
        "X_train, X_test, y_train, y_test = train_test_split(\n",
        "    X, y, test_size=0.3, random_state=42, stratify=y)\n",
        "\n",
        "# Standardize\n",
        "sc = StandardScaler()\n",
        "X_train_std = sc.fit_transform(X_train)\n",
        "X_test_std = sc.transform(X_test)\n",
        "\n",
        "# Run SBS\n",
        "knn = KNeighborsClassifier(n_neighbors=5)\n",
        "sbs = SBS(knn, k_features=1)\n",
        "sbs.fit(X_train_std, y_train)\n",
        "\n",
        "# Plot performance vs number of features\n",
        "k_feat = [len(k) for k in sbs.subsets_]\n",
        "plt.plot(k_feat, sbs.scores_, marker='o')\n",
        "plt.ylim([0.7, 1.05])\n",
        "plt.ylabel('Accuracy')\n",
        "plt.xlabel('Number of features')\n",
        "plt.title('SBS with KNN')\n",
        "plt.grid()\n",
        "plt.show()\n",
        "\n",
        "# Example: best 3 features\n",
        "k3 = list(sbs.subsets_[len(X_train_std[0]) - 3])  # pick subset with 3 features\n",
        "print(\"Selected 3 features:\", [wine.feature_names[i] for i in k3])\n",
        "\n",
        "# Train/test accuracy using reduced feature set\n",
        "knn.fit(X_train_std[:, k3], y_train)\n",
        "print('Test accuracy with 3 features:', knn.score(X_test_std[:, k3], y_test))\n"
      ],
      "metadata": {
        "colab": {
          "base_uri": "https://localhost:8080/",
          "height": 508
        },
        "id": "xZJqj-2kEHCh",
        "outputId": "22702d66-cae5-4ff7-f3b4-9ff01fde9227"
      },
      "execution_count": 13,
      "outputs": [
        {
          "output_type": "display_data",
          "data": {
            "text/plain": [
              "<Figure size 640x480 with 1 Axes>"
            ],
            "image/png": "[encoded data removed]"
          },
          "metadata": {}
        },
        {
          "output_type": "stream",
          "name": "stdout",
          "text": [
            "Selected 3 features: ['alcohol', 'alcalinity_of_ash', 'flavanoids']\n",
            "Test accuracy with 3 features: 0.8888888888888888\n"
          ]
        }
      ]
    },
    {
      "cell_type": "markdown",
      "source": [
        "Task Analysis.\n",
        "\n",
        " Change k_features.\n",
        "\n",
        " k_features=1: SBS removes features until one remains.\n",
        "\n",
        " k_features=5: SBS terminates when only five features remain.\n",
        "\n",
        " Change Estimator:\n",
        "\n",
        " Instead of KNN, use Logistic Regression or Random Forest Classifier.\n",
        "\n",
        " Different estimators favor different subsets of features.\n",
        "\n",
        " Plot Analysis:\n",
        "\n",
        " The curve frequently displays a sweet spot when accuracy remains steady or peaks with fewer characteristics.\n",
        "\n",
        " Achieving great accuracy with fewer characteristics indicates successful dimensionality reduction.\n",
        "\n",
        " If accuracy declines significantly, it indicates that those qualities were relevant."
      ],
      "metadata": {
        "id": "wSRokizmSUrQ"
      }
    },
    {
      "cell_type": "markdown",
      "source": [
        "**Exercise 5.3: Feature Importance with Random Forests**"
      ],
      "metadata": {
        "id": "I61an0pGShZe"
      }
    },
    {
      "cell_type": "markdown",
      "source": [
        "Step 1: Train Random Forest and inspect feature importances"
      ],
      "metadata": {
        "id": "wGGhwzkBTLf2"
      }
    },
    {
      "cell_type": "code",
      "source": [
        "from sklearn.ensemble import RandomForestClassifier\n",
        "import numpy as np\n",
        "import matplotlib.pyplot as plt\n",
        "\n",
        "# Get feature labels (skip the class column)\n",
        "feat_labels = df_wine.columns[1:]\n",
        "\n",
        "# Train Random Forest\n",
        "forest = RandomForestClassifier(n_estimators=500, random_state=1)\n",
        "forest.fit(X_train, y_train)\n",
        "\n",
        "# Feature importances\n",
        "importances = forest.feature_importances_\n",
        "indices = np.argsort(importances)[::-1]\n",
        "\n",
        "# Print ranked features\n",
        "for f in range(X_train.shape[1]):\n",
        "    print(\"%2d) %-*s %f\" % (f + 1, 30, feat_labels[indices[f]], importances[indices[f]]))\n",
        "\n",
        "# Plot importances\n",
        "plt.title('Feature Importance')\n",
        "plt.bar(range(X_train.shape[1]), importances[indices], align='center')\n",
        "plt.xticks(range(X_train.shape[1]), feat_labels[indices], rotation=90)\n",
        "plt.xlim([-1, X_train.shape[1]])\n",
        "plt.tight_layout()\n",
        "plt.show()\n"
      ],
      "metadata": {
        "colab": {
          "base_uri": "https://localhost:8080/",
          "height": 723
        },
        "id": "Bl_-UKYzSh0R",
        "outputId": "9feed6ed-39aa-489e-cff0-720629d78d4c"
      },
      "execution_count": 14,
      "outputs": [
        {
          "output_type": "stream",
          "name": "stdout",
          "text": [
            " 1) Color intensity                0.172994\n",
            " 2) Proline                        0.154752\n",
            " 3) Alcohol                        0.138280\n",
            " 4) Flavanoids                     0.137927\n",
            " 5) OD280/OD315 of diluted wines   0.120440\n",
            " 6) Hue                            0.083862\n",
            " 7) Total phenols                  0.046418\n",
            " 8) Magnesium                      0.034068\n",
            " 9) Alcalinity of ash              0.031147\n",
            "10) Malic acid                     0.028834\n",
            "11) Proanthocyanins                0.025277\n",
            "12) Ash                            0.014972\n",
            "13) Nonflavanoid phenols           0.011029\n"
          ]
        },
        {
          "output_type": "display_data",
          "data": {
            "text/plain": [
              "<Figure size 640x480 with 1 Axes>"
            ],
            "image/png": "[encoded data removed]"
          },
          "metadata": {}
        }
      ]
    },
    {
      "cell_type": "markdown",
      "source": [
        "Step 2: Feature selection with SelectFromModel"
      ],
      "metadata": {
        "id": "w8pNry-yStZs"
      }
    },
    {
      "cell_type": "code",
      "source": [
        "from sklearn.feature_selection import SelectFromModel\n",
        "\n",
        "sfm = SelectFromModel(forest, threshold=0.1, prefit=True)\n",
        "X_selected = sfm.transform(X_train)\n",
        "\n",
        "print(\"Original feature set:\", X_train.shape[1])\n",
        "print(\"Reduced feature set:\", X_selected.shape[1])\n",
        "\n",
        "# Train a model on selected features\n",
        "forest_selected = RandomForestClassifier(n_estimators=500, random_state=1)\n",
        "forest_selected.fit(X_selected, y_train)\n",
        "\n",
        "print(\"Training accuracy (selected):\", forest_selected.score(X_selected, y_train))\n",
        "print(\"Test accuracy (selected):\", forest_selected.score(sfm.transform(X_test), y_test))\n"
      ],
      "metadata": {
        "colab": {
          "base_uri": "https://localhost:8080/"
        },
        "id": "JCGVTmqUSsEA",
        "outputId": "713d8a48-719d-4914-86cd-62efa62eeca8"
      },
      "execution_count": 15,
      "outputs": [
        {
          "output_type": "stream",
          "name": "stdout",
          "text": [
            "Original feature set: 13\n",
            "Reduced feature set: 5\n",
            "Training accuracy (selected): 1.0\n",
            "Test accuracy (selected): 1.0\n"
          ]
        }
      ]
    },
    {
      "cell_type": "markdown",
      "source": [
        "Step 3: Compare with SBS"
      ],
      "metadata": {
        "id": "lOLUmQC3Srvb"
      }
    },
    {
      "cell_type": "code",
      "source": [
        "print(\"Top RF features (importance > 0.1):\", feat_labels[sfm.get_support()])\n",
        "print(\"Top SBS features:\", df_wine.columns[1:][k3])\n"
      ],
      "metadata": {
        "colab": {
          "base_uri": "https://localhost:8080/"
        },
        "id": "1nilElBnS0_E",
        "outputId": "450d0a53-b2c7-45f9-d751-dce9ceaa6a69"
      },
      "execution_count": 16,
      "outputs": [
        {
          "output_type": "stream",
          "name": "stdout",
          "text": [
            "Top RF features (importance > 0.1): Index(['Alcohol', 'Flavanoids', 'Color intensity',\n",
            "       'OD280/OD315 of diluted wines', 'Proline'],\n",
            "      dtype='object')\n",
            "Top SBS features: Index(['Alcohol', 'Alcalinity of ash', 'Flavanoids'], dtype='object')\n"
          ]
        }
      ]
    },
    {
      "cell_type": "markdown",
      "source": [
        "Analysis\n",
        "\n",
        " Random Forest feature importance measures how much each feature lowers impurity (similar to the Gini index).\n",
        "\n",
        " SBS optimizes accuracy by deleting features one by one.\n",
        "\n",
        " They may overlap, but RF selects somewhat different features since it measures splits, whereas SBS assesses final accuracy.\n",
        "\n",
        " Example outcome:\n",
        "\n",
        " RF might say that \"Alcohol, Color_intensity, Flavanoids\" are the most important.\n",
        "\n",
        " SBS may preserve a slightly different subset that is more suited for KNN."
      ],
      "metadata": {
        "id": "kbgAaWvcS9lE"
      }
    },
    {
      "cell_type": "markdown",
      "source": [
        "# **Conclusion**\n",
        "\n",
        "\n",
        " In these tasks, we used several preprocessing and feature selection strategies.\n",
        "\n",
        "\n",
        " Handling missing values guaranteed that our data was clean prior to modeling.\n",
        "\n",
        " Encoding categorical features (label encoding, one-hot encoding, and ordinal mapping) enabled algorithms to accurately read categorical information.\n",
        "\n",
        " Feature scaling (standardization) brings all variables to the same scale, which is critical for distance-based models like KNN and margin-based models like SVM.\n",
        "\n",
        " Feature selection (L1 regularization and SBS) assisted in identifying the most useful features, hence reducing overfitting and enhancing interpretability.\n",
        "When tested with datasets such as Wine and Iris, preprocessing significantly improved model stability and accuracy.  For example, KNN performed poorly without scaling but dramatically improved after standardization.  Similarly, L1 regularization generated sparse models by automatically zeroing out unnecessary characteristics, whereas SBS gave an understandable approach to see which features were most significant."
      ],
      "metadata": {
        "id": "CRKU1OBOETfz"
      }
    }
  ]
}